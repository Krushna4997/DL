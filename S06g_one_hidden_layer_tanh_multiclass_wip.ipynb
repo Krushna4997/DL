{
 "cells": [
  {
   "cell_type": "code",
   "execution_count": 1,
   "metadata": {},
   "outputs": [],
   "source": [
    "#!/usr/bin/env python\n",
    "# -*- coding: utf-8 -*-"
   ]
  },
  {
   "cell_type": "markdown",
   "metadata": {},
   "source": [
    "\n",
    "# Deep Neural Networks\n",
    "\n",
    "## Session 06g\n",
    "## Neural Network with one hidden layer with ${Tanh}$ activation, multi class\n",
    "## Toy dataset\n",
    "\n",
    "<img src='../../images/prasami_color_tutorials_small.png' width='400' alt=\"By Pramod Sharma : pramod.sharma@prasami.com\" align=\"left\"/>"
   ]
  },
  {
   "cell_type": "markdown",
   "metadata": {},
   "source": [
    "## Story So Far\n",
    "\n",
    "<div style=\"font-family: Arial; font-size:1.2em;color:black;\">\n",
    "</div>\n",
    "\n",
    "|#|Sheet #|Dataset|Implementation|Training Accuracy|Testing Accuracy|Remarks|\n",
    "|:-:|:-:|:-:|:--|---|---|:--|\n",
    "|1|S04a|make_moons|Simple Perceptron|0.84111|0.89000||\n",
    "|2|S04b|make_moons|Perceptron including Softmax and Gradient Descent|0.86555|0.90000|Training Accuracy catching up|\n",
    "|3|S06a|make_moons|One hidden layer with ${Tanh}$ activation|0.96875|0.960938| Better, non-linearity helps|\n",
    "|4|S06b|make_moons|One hidden layer with ${ReLU}$ activation|0.96387|0.96875| Still better, Taking little longer to converge|\n",
    "|5|S06c|make_moons|One hidden layer with ${Swish}$ activation|0.96680|0.96094| Similar results, Taking even longer to converge|"
   ]
  },
  {
   "cell_type": "code",
   "execution_count": 2,
   "metadata": {},
   "outputs": [],
   "source": [
    "# Lets import some libraries\n",
    "import os\n",
    "\n",
    "import numpy as np\n",
    "\n",
    "import cupy as cp\n",
    "\n",
    "import pandas as pd\n",
    "\n",
    "import matplotlib.pyplot as plt\n",
    "\n",
    "from sklearn import datasets\n",
    "\n",
    "from sklearn.preprocessing import StandardScaler, OneHotEncoder\n",
    "\n",
    "from sklearn.model_selection import train_test_split\n",
    "\n",
    "from sklearn.metrics import accuracy_score, confusion_matrix\n",
    "\n",
    "%matplotlib inline"
   ]
  },
  {
   "cell_type": "code",
   "execution_count": 29,
   "metadata": {},
   "outputs": [],
   "source": [
    "# Some basic parameters\n",
    "\n",
    "inpDir = '../input' # location where input data is stored\n",
    "outDir = '../output' # location to store outputs\n",
    "\n",
    "RANDOM_STATE = 24 # for initialization ----- REMEMBER: to remove at the time of promotion to production\n",
    "cp.random.seed(RANDOM_STATE) # Set Random Seed for reproducible results\n",
    "\n",
    "EPOCHS = 10000  # number of cycles to run\n",
    "\n",
    "ALPHA = 0.1  # learning rate\n",
    "\n",
    "TEST_SIZE = 0.2 # What fraction we want to keep for testing\n",
    "\n",
    "# Set parameters for decoration of plots\n",
    "params = {'legend.fontsize' : 'large',\n",
    "          'figure.figsize'  : (12,9),\n",
    "          'axes.labelsize'  : 'x-large',\n",
    "          'axes.titlesize'  :'x-large',\n",
    "          'xtick.labelsize' :'large',\n",
    "          'ytick.labelsize' :'large',\n",
    "         }\n",
    "CMAP = plt.cm.brg\n",
    "\n",
    "plt.rcParams.update(params) # update rcParams"
   ]
  },
  {
   "cell_type": "markdown",
   "metadata": {},
   "source": [
    "## Generate Data Set\n",
    "<div style=\"font-family: Arial; font-size:1.1em;\">\n",
    "For this exercise, we will be using a iris dataset.\n",
    "     </div>"
   ]
  },
  {
   "cell_type": "code",
   "execution_count": 30,
   "metadata": {},
   "outputs": [
    {
     "data": {
      "text/plain": [
       "((150, 4), (150,))"
      ]
     },
     "execution_count": 30,
     "metadata": {},
     "output_type": "execute_result"
    }
   ],
   "source": [
    "iris = datasets.load_iris()\n",
    "X = iris.data  # we only take the first two features.\n",
    "y = iris.target\n",
    "X.shape, y.shape"
   ]
  },
  {
   "cell_type": "code",
   "execution_count": 31,
   "metadata": {},
   "outputs": [
    {
     "data": {
      "text/html": [
       "<div>\n",
       "<style scoped>\n",
       "    .dataframe tbody tr th:only-of-type {\n",
       "        vertical-align: middle;\n",
       "    }\n",
       "\n",
       "    .dataframe tbody tr th {\n",
       "        vertical-align: top;\n",
       "    }\n",
       "\n",
       "    .dataframe thead th {\n",
       "        text-align: right;\n",
       "    }\n",
       "</style>\n",
       "<table border=\"1\" class=\"dataframe\">\n",
       "  <thead>\n",
       "    <tr style=\"text-align: right;\">\n",
       "      <th></th>\n",
       "      <th>sepal_length</th>\n",
       "      <th>sepal_width</th>\n",
       "      <th>petal_length</th>\n",
       "      <th>petal_width</th>\n",
       "      <th>labels</th>\n",
       "    </tr>\n",
       "  </thead>\n",
       "  <tbody>\n",
       "    <tr>\n",
       "      <th>0</th>\n",
       "      <td>5.1</td>\n",
       "      <td>3.5</td>\n",
       "      <td>1.4</td>\n",
       "      <td>0.2</td>\n",
       "      <td>0</td>\n",
       "    </tr>\n",
       "    <tr>\n",
       "      <th>1</th>\n",
       "      <td>4.9</td>\n",
       "      <td>3.0</td>\n",
       "      <td>1.4</td>\n",
       "      <td>0.2</td>\n",
       "      <td>0</td>\n",
       "    </tr>\n",
       "    <tr>\n",
       "      <th>2</th>\n",
       "      <td>4.7</td>\n",
       "      <td>3.2</td>\n",
       "      <td>1.3</td>\n",
       "      <td>0.2</td>\n",
       "      <td>0</td>\n",
       "    </tr>\n",
       "    <tr>\n",
       "      <th>3</th>\n",
       "      <td>4.6</td>\n",
       "      <td>3.1</td>\n",
       "      <td>1.5</td>\n",
       "      <td>0.2</td>\n",
       "      <td>0</td>\n",
       "    </tr>\n",
       "    <tr>\n",
       "      <th>4</th>\n",
       "      <td>5.0</td>\n",
       "      <td>3.6</td>\n",
       "      <td>1.4</td>\n",
       "      <td>0.2</td>\n",
       "      <td>0</td>\n",
       "    </tr>\n",
       "  </tbody>\n",
       "</table>\n",
       "</div>"
      ],
      "text/plain": [
       "   sepal_length  sepal_width  petal_length  petal_width  labels\n",
       "0           5.1          3.5           1.4          0.2       0\n",
       "1           4.9          3.0           1.4          0.2       0\n",
       "2           4.7          3.2           1.3          0.2       0\n",
       "3           4.6          3.1           1.5          0.2       0\n",
       "4           5.0          3.6           1.4          0.2       0"
      ]
     },
     "execution_count": 31,
     "metadata": {},
     "output_type": "execute_result"
    }
   ],
   "source": [
    "cols = ['sepal_length', 'sepal_width', 'petal_length', 'petal_width']\n",
    "data_df = pd.DataFrame(X, columns=cols)\n",
    "data_df['labels'] = y\n",
    "data_df.head()"
   ]
  },
  {
   "cell_type": "code",
   "execution_count": 32,
   "metadata": {},
   "outputs": [
    {
     "data": {
      "text/plain": [
       "array([0, 1, 2])"
      ]
     },
     "execution_count": 32,
     "metadata": {},
     "output_type": "execute_result"
    }
   ],
   "source": [
    "data_df['labels'].unique()"
   ]
  },
  {
   "cell_type": "markdown",
   "metadata": {},
   "source": [
    "## Plotting samples"
   ]
  },
  {
   "cell_type": "code",
   "execution_count": 33,
   "metadata": {},
   "outputs": [
    {
     "data": {
      "image/png": "[encoded data removed]",
      "text/plain": [
       "<Figure size 864x648 with 1 Axes>"
      ]
     },
     "metadata": {
      "needs_background": "light"
     },
     "output_type": "display_data"
    }
   ],
   "source": [
    "# Plot the data\n",
    "plt.scatter(X[:,0], X[:,1], s=20, c=y, cmap=CMAP)\n",
    "\n",
    "plt.grid()"
   ]
  },
  {
   "cell_type": "code",
   "execution_count": 34,
   "metadata": {},
   "outputs": [
    {
     "name": "stdout",
     "output_type": "stream",
     "text": [
      "(120, 4) (120,) (30, 4) (30,)\n"
     ]
    }
   ],
   "source": [
    "#  Split the data in training and test sets to measure performance of the model.\n",
    "X_train, X_test, y_train, y_test = train_test_split(X, y, test_size=0.2, random_state=RANDOM_STATE )\n",
    "\n",
    "print (X_train.shape, y_train.shape, X_test.shape, y_test.shape)"
   ]
  },
  {
   "cell_type": "code",
   "execution_count": 35,
   "metadata": {},
   "outputs": [],
   "source": [
    "one_hot = OneHotEncoder(sparse=False)\n",
    "y_train = one_hot.fit_transform(y_train.reshape(-1, 1))\n",
    "y_test = one_hot.transform(y_test.reshape(-1, 1))"
   ]
  },
  {
   "cell_type": "code",
   "execution_count": 36,
   "metadata": {},
   "outputs": [
    {
     "data": {
      "text/plain": [
       "((120, 3), (30, 3))"
      ]
     },
     "execution_count": 36,
     "metadata": {},
     "output_type": "execute_result"
    }
   ],
   "source": [
    "y_train.shape, y_test.shape"
   ]
  },
  {
   "cell_type": "code",
   "execution_count": 59,
   "metadata": {},
   "outputs": [
    {
     "data": {
      "text/plain": [
       "array([[0., 1., 0.],\n",
       "       [1., 0., 0.],\n",
       "       [0., 1., 0.],\n",
       "       [0., 1., 0.],\n",
       "       [0., 0., 1.]])"
      ]
     },
     "execution_count": 59,
     "metadata": {},
     "output_type": "execute_result"
    }
   ],
   "source": [
    "y_train[:5]"
   ]
  },
  {
   "cell_type": "markdown",
   "metadata": {},
   "source": [
    "## Activation Function\n",
    "\n",
    " <p style=\"font-family: Arial; font-size:1.2em;color:black;\">\n",
    "    Taking instability of Softmax into account, it is recommended to tweak the formula a bit:<br><br>\n",
    "        $\\mathrm{softmax}(z_i) = \\large{\\frac{e^{z_i – max\\left ( z \\right )}}{\\sum\\limits_{i=1}^{L} e^{z_i}- max\\left ( z \\right )}}$\n",
    "</p>"
   ]
  },
  {
   "cell_type": "code",
   "execution_count": 37,
   "metadata": {},
   "outputs": [],
   "source": [
    "def fn_softmax(z):\n",
    "    \n",
    "    '''\n",
    "    Args:\n",
    "        z : a matrix of z values of shape (m, n_output)\n",
    "    returns:\n",
    "        Softmax values of z\n",
    "    \n",
    "    '''\n",
    "    exp_scores = np.exp(z - np.max(z)) # to avoid softmax to go exceptionally high\n",
    "\n",
    "    return exp_scores / np.sum(exp_scores, axis=1, keepdims=True)\n",
    "    "
   ]
  },
  {
   "cell_type": "markdown",
   "metadata": {},
   "source": [
    "## Loss Function"
   ]
  },
  {
   "cell_type": "code",
   "execution_count": 38,
   "metadata": {},
   "outputs": [],
   "source": [
    "# Helper function to evaluate the total loss on the dataset\n",
    "\n",
    "def calculate_loss(model, X, y):\n",
    "    '''\n",
    "    Args:\n",
    "        model: dictionay object containing weights and biases\n",
    "        X: Feature Matrix\n",
    "        y: Labels array\n",
    "    Returns:\n",
    "        Average loss\n",
    "    '''\n",
    "    \n",
    "    # extract weights and losses from the model\n",
    "    W1, b1, W2, b2 = model['W1'], model['b1'], model['W2'], model['b2']\n",
    "    \n",
    "    # Forward propagation to calculate our predictions\n",
    "    # Layer 1\n",
    "    z1 = X.dot(W1) + b1\n",
    "    \n",
    "    # Tanh activation\n",
    "    a1 = np.tanh(z1)\n",
    "    \n",
    "    # Layer 2\n",
    "    z2 = a1.dot(W2) + b2\n",
    "    \n",
    "    # softmax activation\n",
    "    a2 = fn_softmax(z2)\n",
    "    assert (a2.shape == y.shape),\"Shape of activations and labels do not match\"\n",
    "    \n",
    "    # Calculating the loss\n",
    "    # Cross entropy = -ground truth x log (predicted)\n",
    "    loss = - (y* np.log(a2) + (1 - y) *np.log(1 - a2))\n",
    "    cost = np.sum( loss ) / num_examples\n",
    "    \n",
    "    return  cost"
   ]
  },
  {
   "cell_type": "markdown",
   "metadata": {},
   "source": [
    "## Predict Function\n",
    "<p style=\"font-family: Arial; font-size:1.2em;color:black;\">\n",
    "For predictions, we will simply be using the forward propagation. No need to iterate or calculate the back propagation for supervised learning.\n",
    "</p>"
   ]
  },
  {
   "cell_type": "code",
   "execution_count": 39,
   "metadata": {},
   "outputs": [],
   "source": [
    "# Helper function to predict an output (0 or 1)\n",
    "\n",
    "def predict(model, X):\n",
    "    '''\n",
    "     Args:\n",
    "         model\n",
    "         X: input features\n",
    "    Returns:\n",
    "        Predictions against the instances\n",
    "         \n",
    "    '''\n",
    "    W1, b1, W2, b2 = model['W1'], model['b1'], model['W2'], model['b2']\n",
    "    \n",
    "    # Forward propagation\n",
    "    z1 = X.dot(W1) + b1\n",
    "    \n",
    "    a1 = np.tanh(z1)\n",
    "    \n",
    "    z2 = a1.dot(W2) + b2\n",
    "    \n",
    "    # use softmax\n",
    "    a2 = fn_softmax(z2)\n",
    "    \n",
    "    return a2\n",
    "    #return np.argmax(a2, axis=1) # pick with one with highest probabilities"
   ]
  },
  {
   "cell_type": "markdown",
   "metadata": {},
   "source": [
    "## The Model"
   ]
  },
  {
   "cell_type": "code",
   "execution_count": 40,
   "metadata": {},
   "outputs": [],
   "source": [
    "# prepare the Model\n",
    "\n",
    "def build_model(nn_hdim, X, y, X_t, y_t,\n",
    "                epochs = EPOCHS, \n",
    "                alpha = ALPHA,\n",
    "                print_loss=False):\n",
    "    \n",
    "    '''\n",
    "    Args:\n",
    "        nn_hdim : Number of nodes in the hidden layer\n",
    "        X : Training features\n",
    "        y : Trainig targets (labels)\n",
    "        X_t:Test features\n",
    "        y_t:Test targets (labels)\n",
    "        epochs : Number of passes through the training data for gradient descent\n",
    "        alpha : learning rate\n",
    "        print_loss : If True, print the loss every nnn iterations\n",
    "        \n",
    "    Returns:\n",
    "        Model: Dictionary object containing weights and biases\n",
    "    '''\n",
    "    # set Random Seed\n",
    "    np.random.seed(RANDOM_STATE)\n",
    "    \n",
    "    # Initialize the parameters to random values. We need to learn these.\n",
    "    # Weights\n",
    "    W1 = np.random.randn(nn_input_dim, nn_hdim) / np.sqrt(nn_input_dim)\n",
    "    W2 = np.random.randn(nn_hdim, nn_output_dim) / np.sqrt(nn_hdim)\n",
    "    # Bias\n",
    "    b1 = np.zeros((1, nn_hdim))\n",
    "    b2 = np.zeros((1, nn_output_dim))\n",
    "\n",
    "    # Model as a Dict object to be return\n",
    "    model = {}\n",
    "    \n",
    "    \n",
    "    \n",
    "    curr_loss = 0\n",
    "    ct_loss = 0\n",
    "    loss = []\n",
    "    epoch = []\n",
    "    t_loss = []\n",
    "        \n",
    "    # Gradient descent. For each batch...\n",
    "    for i in range(0, epochs):\n",
    "        \n",
    "        ##########################\n",
    "        #   Forward propagation  #\n",
    "        ##########################\n",
    "        \n",
    "        # Layer 1\n",
    "        z1 = X.dot(W1) + b1\n",
    "        a1 = np.tanh(z1)  # tanh activation function for layer 1\n",
    "        \n",
    "        # Layer 2\n",
    "        z2 = a1.dot(W2) + b2\n",
    "\n",
    "        a2 = fn_softmax(z2)\n",
    "        \n",
    "        #######################\n",
    "        #   Back propagation  #\n",
    "        #######################\n",
    "        # Layer 2\n",
    "        dz2 = a2 -y # dL/db = dL/dz = (a-y)\n",
    "        \n",
    "        dW2 = (a1.T).dot(dz2)\n",
    "        assert(W2.shape == dW2.shape), 'Shape of W2 {} and dW2 {} do not match'.format(W2.shape, dW2.shape)\n",
    "        \n",
    "        db2 = np.sum(dz2, axis=0, keepdims=True) # db2 is sum along axis 0\n",
    "        assert(b2.shape == db2.shape), 'Shape of b2 {} and db2 {} do not match'.format(b2.shape, db2.shape)\n",
    "            \n",
    "        dz1 = dz2.dot(W2.T) * (1 - np.power(a1, 2))  #derivative of tanh is (1−tanh(x)**2)\n",
    "        #                                            '*' indicates element wise multiplication\n",
    "        assert(z1.shape == dz1.shape), 'Shape of z1 {} and dz1 {} do not match'.format(W2.shape, dW2.shape)\n",
    "        \n",
    "        dW1 = np.dot(X.T, dz1)\n",
    "        assert(W1.shape == dW1.shape), 'Shape of W1 {} and dW1 {} do not match'.format(W1.shape, dW1.shape)\n",
    "        db1 = np.sum(dz1, axis=0, keepdims=True) \n",
    "        assert(b1.shape == db1.shape), 'Shape of b1 {} and db1 {} do not match'.format(b1.shape, db1.shape)\n",
    "        \n",
    "        # Gradient descent parameter update\n",
    "        W1 += -alpha * dW1/num_examples\n",
    "        b1 += -alpha * db1/num_examples\n",
    "        W2 += -alpha * dW2/num_examples\n",
    "        b2 += -alpha * db2/num_examples\n",
    "        \n",
    "        # Assign new parameters to the model\n",
    "        model = { 'W1': W1, 'b1': b1, 'W2': W2, 'b2': b2}\n",
    "        \n",
    "        if i % 100:\n",
    "            curr_loss = calculate_loss(model, X, y)\n",
    "            loss.append(curr_loss)\n",
    "            ct_loss = calculate_loss(model, X_t, y_t)\n",
    "            t_loss.append(ct_loss)\n",
    "            epoch.append(i)\n",
    "        \n",
    "        # Print the loss.\n",
    "        if print_loss and i % 1000 == 0:\n",
    "            print(\"Loss after iteration %i: %f, %f\" %(i, curr_loss, ct_loss))\n",
    "            \n",
    "    curr_loss = calculate_loss(model, X, y)\n",
    "    loss.append(curr_loss)\n",
    "    ct_loss = calculate_loss(model, X_t, y_t)\n",
    "    t_loss.append(ct_loss)\n",
    "    epoch.append(i)\n",
    "    print(\"Loss after iteration %i: %f, %f\" %(i, curr_loss, ct_loss))\n",
    "    \n",
    "    loss_hist['epoch'] = epoch\n",
    "    loss_hist['Loss'] = loss\n",
    "    loss_hist['Test_loss'] = t_loss\n",
    "    return model"
   ]
  },
  {
   "cell_type": "code",
   "execution_count": 60,
   "metadata": {},
   "outputs": [
    {
     "data": {
      "text/plain": [
       "(120, 3)"
      ]
     },
     "execution_count": 60,
     "metadata": {},
     "output_type": "execute_result"
    }
   ],
   "source": [
    "y_train.shape"
   ]
  },
  {
   "cell_type": "code",
   "execution_count": 41,
   "metadata": {},
   "outputs": [],
   "source": [
    "num_examples = X_train.shape[0] # training set size\n",
    "nn_input_dim = X_train.shape[1] # input layer dimensionality\n",
    "nn_output_dim = 3 # output layer dimensionality\n",
    "\n",
    "# lists to facilitate plotting \n",
    "loss_hist = {}\n"
   ]
  },
  {
   "cell_type": "code",
   "execution_count": 42,
   "metadata": {},
   "outputs": [
    {
     "name": "stdout",
     "output_type": "stream",
     "text": [
      "Loss after iteration 0: 0.000000, 0.000000\n",
      "Loss after iteration 1000: 0.185527, 0.023799\n",
      "Loss after iteration 2000: 0.133886, 0.022007\n",
      "Loss after iteration 3000: 0.121227, 0.022189\n",
      "Loss after iteration 4000: 0.114725, 0.023056\n",
      "Loss after iteration 5000: 0.110547, 0.024377\n",
      "Loss after iteration 6000: 0.107512, 0.025961\n",
      "Loss after iteration 7000: 0.105120, 0.027998\n",
      "Loss after iteration 8000: 0.103484, 0.030627\n",
      "Loss after iteration 9000: 0.102467, 0.031046\n",
      "Loss after iteration 9999: 0.101585, 0.031432\n"
     ]
    }
   ],
   "source": [
    "# Build a model\n",
    "model = build_model(4, X_train, y_train, X_test, y_test,\n",
    "                    epochs = EPOCHS, \n",
    "                    alpha = ALPHA, \n",
    "                    print_loss=True)"
   ]
  },
  {
   "cell_type": "code",
   "execution_count": 43,
   "metadata": {},
   "outputs": [],
   "source": [
    "def fn_make_predicitions(pred_func, X):\n",
    "    y_pred = pred_func(X)\n",
    "    return y_pred"
   ]
  },
  {
   "cell_type": "code",
   "execution_count": 44,
   "metadata": {},
   "outputs": [
    {
     "data": {
      "text/plain": [
       "(120, 3)"
      ]
     },
     "execution_count": 44,
     "metadata": {},
     "output_type": "execute_result"
    }
   ],
   "source": [
    "y_pred = fn_make_predicitions(lambda x: predict(model, x), X_train)\n",
    "\n",
    "y_pred.shape"
   ]
  },
  {
   "cell_type": "code",
   "execution_count": 62,
   "metadata": {},
   "outputs": [
    {
     "data": {
      "text/plain": [
       "array([[0.  , 0.02, 0.98],\n",
       "       [0.  , 0.02, 0.98],\n",
       "       [0.  , 1.  , 0.  ],\n",
       "       [0.  , 1.  , 0.  ],\n",
       "       [0.  , 0.02, 0.98]])"
      ]
     },
     "execution_count": 62,
     "metadata": {},
     "output_type": "execute_result"
    }
   ],
   "source": [
    "y_pred[:5].round(2)"
   ]
  },
  {
   "cell_type": "code",
   "execution_count": 46,
   "metadata": {},
   "outputs": [
    {
     "data": {
      "text/plain": [
       "array([[0., 1., 0.],\n",
       "       [1., 0., 0.],\n",
       "       [0., 1., 0.],\n",
       "       [0., 1., 0.],\n",
       "       [0., 0., 1.]])"
      ]
     },
     "execution_count": 46,
     "metadata": {},
     "output_type": "execute_result"
    }
   ],
   "source": [
    "y_train[:5]"
   ]
  },
  {
   "cell_type": "code",
   "execution_count": 47,
   "metadata": {
    "scrolled": true
   },
   "outputs": [
    {
     "name": "stdout",
     "output_type": "stream",
     "text": [
      "Accruacy score on Train Data : 0.9916666666666667\n"
     ]
    }
   ],
   "source": [
    "print('Accruacy score on Train Data :', accuracy_score(y_train.argmax(axis=1), y_pred.argmax(axis=1)))"
   ]
  },
  {
   "cell_type": "code",
   "execution_count": 48,
   "metadata": {},
   "outputs": [
    {
     "data": {
      "text/plain": [
       "array([[40,  0,  0],\n",
       "       [ 0, 45,  1],\n",
       "       [ 0,  0, 34]])"
      ]
     },
     "execution_count": 48,
     "metadata": {},
     "output_type": "execute_result"
    }
   ],
   "source": [
    "confusion_matrix(y_train.argmax(axis=1), y_pred.argmax(axis=1))"
   ]
  },
  {
   "cell_type": "code",
   "execution_count": 49,
   "metadata": {},
   "outputs": [
    {
     "name": "stdout",
     "output_type": "stream",
     "text": [
      "Accruacy score on Test Data : 0.9666666666666667\n"
     ]
    }
   ],
   "source": [
    "y_pred = fn_make_predicitions(lambda x: predict(model, x), X_test)\n",
    "\n",
    "print('Accruacy score on Test Data :', accuracy_score(y_test.argmax(axis=1), y_pred.argmax(axis=1)))"
   ]
  },
  {
   "cell_type": "code",
   "execution_count": 50,
   "metadata": {},
   "outputs": [
    {
     "data": {
      "text/plain": [
       "array([[10,  0,  0],\n",
       "       [ 0,  3,  1],\n",
       "       [ 0,  0, 16]])"
      ]
     },
     "execution_count": 50,
     "metadata": {},
     "output_type": "execute_result"
    }
   ],
   "source": [
    "confusion_matrix(y_test.argmax(axis=1), y_pred.argmax(axis=1))"
   ]
  },
  {
   "cell_type": "code",
   "execution_count": 51,
   "metadata": {},
   "outputs": [
    {
     "data": {
      "image/png": "[encoded data removed]",
      "text/plain": [
       "<Figure size 1080x432 with 2 Axes>"
      ]
     },
     "metadata": {
      "needs_background": "light"
     },
     "output_type": "display_data"
    }
   ],
   "source": [
    "loss_df = pd.DataFrame(loss_hist)\n",
    "\n",
    "fig, axes = plt.subplots(1,2 , figsize = (15,6))\n",
    "\n",
    "l_range = 100\n",
    "\n",
    "ax = axes[0]\n",
    "\n",
    "loss_df.plot(x = 'epoch', y = ['Loss','Test_loss'], ax = ax)\n",
    "loss = loss_df['Loss'].values\n",
    "\n",
    "# little beautification\n",
    "txtstr = \"Loss: \\n  Start : {:7.4f}\\n   End : {:7.4f}\".format(loss[0],loss[-1]) #text to plot\n",
    "# properties  matplotlib.patch.Patch \n",
    "props = dict(boxstyle='round', facecolor='wheat', alpha=0.5)\n",
    "\n",
    "# place a text box in upper left in axes coords\n",
    "\n",
    "ax.text(0.4, 0.95, txtstr, transform=ax.transAxes, fontsize=14,\n",
    "        verticalalignment='top', bbox=props)\n",
    "\n",
    "ax.set_xlabel(\"Epochs\")\n",
    "ax.set_ylabel(\"Loss\")\n",
    "ax.set_title('Overall')\n",
    "ax.grid();\n",
    "\n",
    "ax = axes[1]\n",
    "\n",
    "loss_df[-l_range:].plot(x = 'epoch', y = ['Loss','Test_loss'], ax = ax)\n",
    "\n",
    "# little beautification\n",
    "txtstr = \"Loss: \\n  Start : {:7.4f}\\n   End : {:7.4f}\".format(loss[-l_range],loss[-1]) #text to plot\n",
    "# properties  matplotlib.patch.Patch \n",
    "props = dict(boxstyle='round', facecolor='wheat', alpha=0.5)\n",
    "\n",
    "# place a text box in upper left in axes coords\n",
    "\n",
    "ax.text(0.4, 0.95, txtstr, transform=ax.transAxes, fontsize=14,\n",
    "        verticalalignment='top', bbox=props)\n",
    "\n",
    "ax.set_xlabel(\"Epochs\")\n",
    "ax.set_ylabel(\"Loss\")\n",
    "ax.set_title('Last {} records'.format(l_range))\n",
    "ax.grid();\n",
    "plt.tight_layout()"
   ]
  },
  {
   "cell_type": "code",
   "execution_count": null,
   "metadata": {},
   "outputs": [],
   "source": []
  }
 ],
 "metadata": {
  "kernelspec": {
   "display_name": "Python 3",
   "language": "python",
   "name": "python3"
  },
  "language_info": {
   "codemirror_mode": {
    "name": "ipython",
    "version": 3
   },
   "file_extension": ".py",
   "mimetype": "text/x-python",
   "name": "python",
   "nbconvert_exporter": "python",
   "pygments_lexer": "ipython3",
   "version": "3.8.10"
  }
 },
 "nbformat": 4,
 "nbformat_minor": 2
}
